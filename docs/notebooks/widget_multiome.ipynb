{
 "cells": [
  {
   "cell_type": "markdown",
   "metadata": {
    "nbsphinx": "hidden"
   },
   "source": [
    "# Vitessce Widget Tutorial"
   ]
  },
  {
   "cell_type": "markdown",
   "metadata": {},
   "source": [
    "# Visualization of 10x multiome data"
   ]
  },
  {
   "cell_type": "markdown",
   "metadata": {},
   "source": [
    "## 1. Import dependencies\n",
    "\n",
    "We need to import the classes and functions that we will be using from the corresponding packages."
   ]
  },
  {
   "cell_type": "code",
   "execution_count": null,
   "metadata": {},
   "outputs": [],
   "source": [
    "import os\n",
    "from os.path import join\n",
    "from urllib.request import urlretrieve\n",
    "import muon as mu\n",
    "from muon import atac as ac\n",
    "import scanpy as sc\n",
    "import anndata as ad\n",
    "import numpy as np\n",
    "\n",
    "from vitessce import (\n",
    "    VitessceConfig,\n",
    "    Component as cm,\n",
    "    CoordinationType as ct,\n",
    "    MuDataWrapper,\n",
    "    AnnDataWrapper,\n",
    ")"
   ]
  },
  {
   "cell_type": "markdown",
   "metadata": {},
   "source": [
    "## 2. Download the dataset\n",
    "\n",
    "Download data from https://www.10xgenomics.com/resources/datasets/fresh-embryonic-e-18-mouse-brain-5-k-1-standard-2-0-0"
   ]
  },
  {
   "cell_type": "code",
   "execution_count": null,
   "metadata": {},
   "outputs": [],
   "source": [
    "#os.makedirs(\"data\", exist_ok=True)\n",
    "h5_filepath = join(\"data\", \"multiome\", \"e18_mouse_brain_fresh_5k_filtered_feature_bc_matrix.h5\")\n",
    "#urlretrieve('https://seurat.nygenome.org/pbmc3k_final.h5ad', adata_filepath)"
   ]
  },
  {
   "cell_type": "markdown",
   "metadata": {},
   "source": [
    "## 3. Load the dataset\n",
    "\n",
    "Load the dataset using AnnData's `read_h5ad` function."
   ]
  },
  {
   "cell_type": "code",
   "execution_count": null,
   "metadata": {},
   "outputs": [],
   "source": [
    "mdata = mu.read_10x_h5(h5_filepath)\n",
    "mdata.var_names_make_unique()"
   ]
  },
  {
   "cell_type": "code",
   "execution_count": null,
   "metadata": {},
   "outputs": [],
   "source": [
    "rna = mdata.mod['rna']\n",
    "rna\n",
    "atac = mdata.mod['atac']\n",
    "atac"
   ]
  },
  {
   "cell_type": "markdown",
   "metadata": {},
   "source": [
    "## 4.1 Pre-process the gene expression dataset\n",
    "The following code is based on the Muon tutorial notebook https://github.com/PMBio/muon-tutorials/blob/master/single-cell-rna-atac/pbmc10k/1-Gene-Expression-Processing.ipynb"
   ]
  },
  {
   "cell_type": "code",
   "execution_count": null,
   "metadata": {},
   "outputs": [],
   "source": [
    "# QC for mitochondrial genes\n",
    "rna.var['mt'] = rna.var_names.str.startswith('mt-')  # annotate the group of mitochondrial genes as 'mt'\n",
    "sc.pp.calculate_qc_metrics(rna, qc_vars=['mt'], percent_top=None, log1p=False, inplace=True)"
   ]
  },
  {
   "cell_type": "code",
   "execution_count": null,
   "metadata": {},
   "outputs": [],
   "source": [
    "# Filtering for cells and genes with sufficient counts\n",
    "mu.pp.filter_var(rna, 'n_cells_by_counts', lambda x: x >= 3)\n",
    "mu.pp.filter_obs(rna, 'n_genes_by_counts', lambda x: (x >= 200) & (x < 5000))\n",
    "mu.pp.filter_obs(rna, 'total_counts', lambda x: x < 15000)\n",
    "mu.pp.filter_obs(rna, 'pct_counts_mt', lambda x: x < 20)"
   ]
  },
  {
   "cell_type": "code",
   "execution_count": null,
   "metadata": {},
   "outputs": [],
   "source": [
    "# Normalization and scaling\n",
    "sc.pp.normalize_total(rna, target_sum=1e4)\n",
    "sc.pp.log1p(rna)\n",
    "\n",
    "sc.pp.highly_variable_genes(rna, min_mean=0.02, max_mean=4, min_disp=0.5)\n",
    "\n",
    "sc.pp.scale(rna, max_value=10)"
   ]
  },
  {
   "cell_type": "code",
   "execution_count": null,
   "metadata": {},
   "outputs": [],
   "source": [
    "# Dimensionality reduction and clustering\n",
    "sc.tl.pca(rna, svd_solver='arpack')\n",
    "sc.pp.neighbors(rna, n_neighbors=10, n_pcs=20)\n",
    "sc.tl.leiden(rna, resolution=.5)"
   ]
  },
  {
   "cell_type": "markdown",
   "metadata": {},
   "source": [
    "## 4.2 Pre-process the chromatin accessibility dataset\n",
    "The following code is based on the Muon tutorial notebook https://github.com/PMBio/muon-tutorials/blob/master/single-cell-rna-atac/pbmc10k/2-Chromatin-Accessibility-Processing.ipynb"
   ]
  },
  {
   "cell_type": "code",
   "execution_count": null,
   "metadata": {},
   "outputs": [],
   "source": [
    "# QC\n",
    "sc.pp.calculate_qc_metrics(atac, percent_top=None, log1p=False, inplace=True)"
   ]
  },
  {
   "cell_type": "code",
   "execution_count": null,
   "metadata": {},
   "outputs": [],
   "source": [
    "# Filtering\n",
    "mu.pp.filter_var(atac, 'n_cells_by_counts', lambda x: x >= 10)\n",
    "mu.pp.filter_obs(atac, 'n_genes_by_counts', lambda x: (x >= 2000) & (x <= 15000))\n",
    "mu.pp.filter_obs(atac, 'total_counts', lambda x: (x >= 4000) & (x <= 40000))"
   ]
  },
  {
   "cell_type": "code",
   "execution_count": null,
   "metadata": {},
   "outputs": [],
   "source": [
    "# Normalization\n",
    "atac.layers[\"counts\"] = atac.X # save original values in a counts layer\n",
    "sc.pp.normalize_per_cell(atac, counts_per_cell_after=1e4)\n",
    "sc.pp.log1p(atac)"
   ]
  },
  {
   "cell_type": "code",
   "execution_count": null,
   "metadata": {},
   "outputs": [],
   "source": [
    "sc.pp.highly_variable_genes(atac, min_mean=0.05, max_mean=1.5, min_disp=.5)\n",
    "np.sum(atac.var.highly_variable)"
   ]
  },
  {
   "cell_type": "code",
   "execution_count": null,
   "metadata": {},
   "outputs": [],
   "source": [
    "atac.raw = atac"
   ]
  },
  {
   "cell_type": "code",
   "execution_count": null,
   "metadata": {},
   "outputs": [],
   "source": [
    "sc.pp.scale(atac)"
   ]
  },
  {
   "cell_type": "code",
   "execution_count": null,
   "metadata": {},
   "outputs": [],
   "source": [
    "# Dimensionality reduction and clustering\n",
    "ac.tl.lsi(atac)\n",
    "atac.obsm['X_lsi'] = atac.obsm['X_lsi'][:,1:]\n",
    "atac.varm[\"LSI\"] = atac.varm[\"LSI\"][:,1:]\n",
    "atac.uns[\"lsi\"][\"stdev\"] = atac.uns[\"lsi\"][\"stdev\"][1:]"
   ]
  },
  {
   "cell_type": "code",
   "execution_count": null,
   "metadata": {},
   "outputs": [],
   "source": [
    "sc.pp.neighbors(atac, use_rep=\"X_lsi\", n_neighbors=10, n_pcs=30)"
   ]
  },
  {
   "cell_type": "code",
   "execution_count": null,
   "metadata": {},
   "outputs": [],
   "source": [
    "sc.tl.leiden(atac, resolution=.5)"
   ]
  },
  {
   "cell_type": "code",
   "execution_count": null,
   "metadata": {},
   "outputs": [],
   "source": [
    "mdata.mod['atac']"
   ]
  },
  {
   "cell_type": "markdown",
   "metadata": {},
   "source": [
    "## 5. Create a Vitessce view config\n",
    "\n",
    "Define the data and views you would like to include in the widget."
   ]
  },
  {
   "cell_type": "code",
   "execution_count": null,
   "metadata": {},
   "outputs": [],
   "source": [
    "vc = VitessceConfig(name='10x multiome example')\n",
    "rna_dataset = vc.add_dataset(name='RNA').add_object(AnnDataWrapper(\n",
    "    rna,\n",
    "    cell_set_obs=[\"leiden\"], cell_set_obs_names=[\"Leiden\"], \n",
    "    mappings_obsm=[\"X_pca\"], mappings_obsm_names=[\"PCA\"],\n",
    "    expression_matrix=\"X\",\n",
    "    matrix_gene_var_filter=\"highly_variable\"\n",
    "))\n",
    "atac_dataset = vc.add_dataset(name='ATAC').add_object(AnnDataWrapper(\n",
    "    atac,\n",
    "    cell_set_obs=[\"leiden\"], cell_set_obs_names=[\"Leiden\"], \n",
    "    mappings_obsm=[\"X_lsi\"], mappings_obsm_names=[\"LSI\"],\n",
    "    expression_matrix=\"X\",\n",
    "    matrix_gene_var_filter=\"highly_variable\"\n",
    "))\n",
    "\n",
    "pca = vc.add_view(rna_dataset, cm.SCATTERPLOT, mapping=\"PCA\")\n",
    "lsi = vc.add_view(atac_dataset, cm.SCATTERPLOT, mapping=\"LSI\")\n",
    "rna_cell_sets = vc.add_view(rna_dataset, cm.CELL_SETS).set_props(title=\"Cell Sets from RNA\")\n",
    "atac_cell_sets = vc.add_view(atac_dataset, cm.CELL_SETS).set_props(title=\"Cell Sets from ATAC\")\n",
    "genes = vc.add_view(rna_dataset, cm.GENES).set_props(title=\"Genes\")\n",
    "peaks = vc.add_view(atac_dataset, cm.GENES).set_props(title=\"Peaks\", variablesLabelOverride=\"peak\")\n",
    "rna_heatmap = vc.add_view(rna_dataset, cm.HEATMAP).set_props(title=\"Heatmap from RNA\")\n",
    "atac_heatmap = vc.add_view(atac_dataset, cm.HEATMAP).set_props(title=\"Heatmap from ATAC\", variablesLabelOverride=\"peak\")\n",
    "\n",
    "vc.link_views([pca, rna_heatmap], [ct.GENE_EXPRESSION_COLORMAP, \"geneExpressionColormapRange\"], [\"plasma\", [0.0, 1.0]])\n",
    "vc.link_views([pca, rna_heatmap, genes], [\"geneSelection\"])\n",
    "vc.link_views([pca, rna_heatmap, rna_cell_sets], [ct.CELL_SET_SELECTION, ct.CELL_SET_COLOR])\n",
    "vc.link_views([lsi, atac_heatmap], [ct.GENE_EXPRESSION_COLORMAP, \"geneExpressionColormapRange\"], [\"plasma\", [0.0, 1.0]])\n",
    "vc.link_views([lsi, atac_heatmap, peaks], [\"geneSelection\"])\n",
    "vc.link_views([lsi, atac_heatmap, atac_cell_sets], [ct.CELL_SET_SELECTION, ct.CELL_SET_COLOR])\n",
    "\n",
    "vc.layout(((pca | lsi) / (rna_cell_sets | atac_cell_sets)) | ((rna_heatmap | atac_heatmap) / (genes | peaks)));"
   ]
  },
  {
   "cell_type": "markdown",
   "metadata": {},
   "source": [
    "## 5. Create the Vitessce widget"
   ]
  },
  {
   "cell_type": "markdown",
   "metadata": {},
   "source": [
    "A widget can be created with the `.widget()` method on the config instance."
   ]
  },
  {
   "cell_type": "code",
   "execution_count": null,
   "metadata": {},
   "outputs": [],
   "source": [
    "vw = vc.widget()\n",
    "vw"
   ]
  },
  {
   "cell_type": "code",
   "execution_count": null,
   "metadata": {},
   "outputs": [],
   "source": []
  }
 ],
 "metadata": {
  "kernelspec": {
   "display_name": "Python 3",
   "language": "python",
   "name": "python3"
  },
  "language_info": {
   "codemirror_mode": {
    "name": "ipython",
    "version": 3
   },
   "file_extension": ".py",
   "mimetype": "text/x-python",
   "name": "python",
   "nbconvert_exporter": "python",
   "pygments_lexer": "ipython3",
   "version": "3.9.4"
  }
 },
 "nbformat": 4,
 "nbformat_minor": 4
}
